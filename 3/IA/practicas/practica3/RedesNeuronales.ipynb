{
  "cells": [
    {
      "cell_type": "code",
      "execution_count": null,
      "metadata": {
        "id": "rynQFSYaZbWr"
      },
      "outputs": [],
      "source": [
        "#import modules and data\n",
        "import sklearn.datasets as datasets\n",
        "import pandas as pd\n",
        "from sklearn.model_selection import train_test_split\n",
        "from sklearn.neighbors import KNeighborsClassifier\n",
        "from sklearn.tree import DecisionTreeClassifier\n",
        "from sklearn.naive_bayes import GaussianNB\n",
        "import numpy as np\n",
        "from sklearn.metrics import mean_squared_error\n",
        "from sklearn.metrics import mean_absolute_error\n",
        "\n",
        "from sklearn.datasets import load_iris\n",
        "from sklearn.model_selection import train_test_split\n",
        "from sklearn import metrics\n",
        "from sklearn.naive_bayes import GaussianNB\n",
        "import numpy as np\n",
        "import pandas as pd\n",
        "from scipy.stats import norm\n",
        "from itertools import product\n",
        "from sklearn.neural_network import MLPRegressor\n",
        "from keras.models import *\n",
        "from keras.layers import Activation, Dense\n",
        "from keras import *\n",
        "import matplotlib.pyplot as plt\n",
        "\n",
        "from sklearn.preprocessing import StandardScaler\n",
        "\n",
        "\n",
        "\n",
        "from numpy import savetxt"
      ]
    },
    {
      "cell_type": "code",
      "execution_count": null,
      "metadata": {
        "colab": {
          "base_uri": "https://localhost:8080/"
        },
        "id": "QnmZ_mVkNN9h",
        "outputId": "4ffdfcf0-456c-440b-8d5e-5285f080fe67"
      },
      "outputs": [
        {
          "output_type": "stream",
          "name": "stdout",
          "text": [
            "['data', 'target', 'frame', 'target_names', 'DESCR', 'feature_names', 'filename', 'data_module']\n",
            "569\n"
          ]
        }
      ],
      "source": [
        "cancer=datasets.load_breast_cancer()\n",
        "print(list(cancer))\n",
        "print(len(cancer.data))\n",
        "X=pd.DataFrame(cancer.data, columns=cancer.feature_names)\n",
        "Y=cancer.target\n"
      ]
    },
    {
      "cell_type": "code",
      "execution_count": null,
      "metadata": {
        "colab": {
          "base_uri": "https://localhost:8080/"
        },
        "id": "kzkWpJofN_-T",
        "outputId": "7ded1fba-5bcd-44dd-cbd0-ede1d73dbb41"
      },
      "outputs": [
        {
          "output_type": "stream",
          "name": "stdout",
          "text": [
            "Train set accuracy: 0.78\n",
            "Test set accuracy: 0.77\n",
            "MSE: 0.23\n"
          ]
        },
        {
          "output_type": "stream",
          "name": "stderr",
          "text": [
            "/usr/local/lib/python3.7/dist-packages/sklearn/neighbors/_classification.py:198: DataConversionWarning: A column-vector y was passed when a 1d array was expected. Please change the shape of y to (n_samples,), for example using ravel().\n",
            "  return self._fit(X, y)\n"
          ]
        }
      ],
      "source": [
        "#KNN\n",
        "#Definimos los datos cogiendo todas las filas menos la primera que son los nombres de las columnas\n",
        "datos= pd.read_csv ('diabetes.csv').to_numpy()\n",
        "datos = np.delete(datos,-1,1)\n",
        "#Establecemos los nombres de las columnas\n",
        "nombreColumnas=pd.read_csv ('diabetes.csv')\n",
        "nombreColumnas = np.delete(nombreColumnas.columns.to_numpy(),-1)\n",
        "\n",
        "X=pd.DataFrame(datos , columns=nombreColumnas)\n",
        "\n",
        "resultados= pd.read_csv ('diabetes.csv').to_numpy()\n",
        "\n",
        "for i in range(8):\n",
        "    resultados = np.delete(resultados,0,1)\n",
        "\n",
        "Y=resultados\n",
        "\n",
        "X_train, X_test, Y_train, Y_test = train_test_split(X, Y,test_size=0.2, random_state=0)\n",
        "#chose the number of neighbors\n",
        "clf=KNeighborsClassifier(n_neighbors=9)\n",
        "#Fit the classifier on the Training Set\n",
        "clf.fit(X_train,Y_train)\n",
        "\n",
        "#Make the predictions on the Test set\n",
        "predictions=clf.predict(X_test)\n",
        "\n",
        "#Evaluate the Model\n",
        "\n",
        "accuracy_train=clf.score(X_train,Y_train)\n",
        "accuracy_test=clf.score(X_test,Y_test)\n",
        "print (\"Train set accuracy: {:.2f}\".format(accuracy_train))\n",
        "print (\"Test set accuracy: {:.2f}\".format(accuracy_test))\n",
        "\n",
        "Y_pred = clf.predict(X_test)\n",
        "print('MSE: %.2f' % mean_squared_error(Y_test, Y_pred))\n",
        "\n",
        "\n",
        "\n"
      ]
    },
    {
      "cell_type": "code",
      "execution_count": null,
      "metadata": {
        "colab": {
          "base_uri": "https://localhost:8080/",
          "height": 105
        },
        "id": "R7liXruRaapr",
        "outputId": "0136032f-4888-4a80-8141-30aad2d29550"
      },
      "outputs": [
        {
          "output_type": "stream",
          "name": "stdout",
          "text": [
            "R^2 of the fitting:  0.7638436482084691\n",
            "R^2 of the fitting: 0.76\n",
            "MSE: 0.24\n"
          ]
        },
        {
          "output_type": "execute_result",
          "data": {
            "application/vnd.google.colaboratory.intrinsic+json": {
              "type": "string"
            },
            "text/plain": [
              "'Para que el modelo esté bien hecho, la precisión al introducir en el modelo los datos de training y la precisión\\n   al introducir en el modelo los datos de test debe ser parecida, si es muy diferente habría que ajustar el modelo.'"
            ]
          },
          "metadata": {},
          "execution_count": 30
        }
      ],
      "source": [
        "#Arboles\n",
        "datos= pd.read_csv ('diabetes.csv').to_numpy()\n",
        "datos = np.delete(datos,-1,1)\n",
        "\n",
        "nombreColumnas=pd.read_csv ('diabetes.csv')\n",
        "nombreColumnas = np.delete(nombreColumnas.columns.to_numpy(),-1)\n",
        "\n",
        "X=pd.DataFrame(datos , columns=nombreColumnas)\n",
        "\n",
        "resultados= pd.read_csv ('diabetes.csv').to_numpy()\n",
        "\n",
        "for i in range(8):\n",
        "    resultados = np.delete(resultados,0,1)\n",
        "\n",
        "Y=resultados\n",
        "\n",
        "\n",
        "X_train, X_test, Y_train, Y_test = train_test_split(X,Y,test_size=0.2,random_state=0)# 0.10 significa un 10% de datos para test\n",
        "model =  DecisionTreeClassifier(max_depth=3,random_state=0) # max_depth numero de ramas (5 o 10)\n",
        "model.fit(X_train, Y_train)\n",
        "\n",
        "from sklearn.metrics import mean_squared_error, r2_score\n",
        "model_score = model.score(X_train,Y_train)\n",
        "model_score_test = model.score(X_test,Y_test)\n",
        "print('R^2 of the fitting: ',model_score)\n",
        "print(\"R^2 of the fitting: {:.2f}\".format(model_score_test))\n",
        "\n",
        "\n",
        "Y_pred = model.predict(X_test)\n",
        "print('MSE: %.2f'% mean_squared_error(Y_test, Y_pred))\n",
        "\n",
        "\n",
        "\n",
        "#Fit the classifier on the Training Set\n",
        "Y_pred_train= model.predict(X_train)\n",
        "\n",
        "#Make the predictions on the Test set\n",
        "Y_pred_test= model.predict(X_test)\n",
        "\n",
        "'''Para que el modelo esté bien hecho, la precisión al introducir en el modelo los datos de training y la precisión\n",
        "   al introducir en el modelo los datos de test debe ser parecida, si es muy diferente habría que ajustar el modelo.'''\n",
        "\n",
        "\n"
      ]
    },
    {
      "cell_type": "code",
      "execution_count": null,
      "metadata": {
        "colab": {
          "base_uri": "https://localhost:8080/"
        },
        "id": "8VgKIb-1Pb3A",
        "outputId": "901822c8-834e-40b6-9457-2ca298e899ae"
      },
      "outputs": [
        {
          "output_type": "stream",
          "name": "stdout",
          "text": [
            "MSE: 0.23\n"
          ]
        },
        {
          "output_type": "stream",
          "name": "stderr",
          "text": [
            "/usr/local/lib/python3.7/dist-packages/sklearn/utils/validation.py:993: DataConversionWarning: A column-vector y was passed when a 1d array was expected. Please change the shape of y to (n_samples, ), for example using ravel().\n",
            "  y = column_or_1d(y, warn=True)\n"
          ]
        }
      ],
      "source": [
        "#Naive Bayes\n",
        "datos= pd.read_csv ('diabetes.csv').to_numpy()\n",
        "datos = np.delete(datos,-1,1)\n",
        "\n",
        "nombreColumnas=pd.read_csv ('diabetes.csv')\n",
        "nombreColumnas = np.delete(nombreColumnas.columns.to_numpy(),-1)\n",
        "\n",
        "X=pd.DataFrame(datos , columns=nombreColumnas)\n",
        "\n",
        "resultados= pd.read_csv ('diabetes.csv').to_numpy()\n",
        "\n",
        "for i in range(8):\n",
        "    resultados = np.delete(resultados,0,1)\n",
        "\n",
        "Y=resultados\n",
        "\n",
        "X_train,X_test,Y_train,Y_test=train_test_split(X,Y,test_size=0.2,random_state=0)\n",
        "\n",
        "#fit model\n",
        "model=GaussianNB(priors = [0.5, 0.5])\n",
        "model.fit(X_train, Y_train)\n",
        "\n",
        "#prediction\n",
        "Y_pred_train=model.predict(X_train)\n",
        "Y_pred_test=model.predict(X_test)\n",
        "\n",
        "print('MSE: %.2f'% mean_squared_error(Y_test, Y_pred_test))\n",
        "\n"
      ]
    },
    {
      "cell_type": "code",
      "execution_count": null,
      "metadata": {
        "id": "zvo46BJ2QayN"
      },
      "outputs": [],
      "source": [
        "datos= pd.read_csv ('diabetes.csv').to_numpy()\n",
        "\n",
        "datos = np.delete(datos,-1,1)\n",
        "\n",
        "\n",
        "X=pd.DataFrame(datos , columns=nombreColumnas)\n",
        "\n",
        "resultados= pd.read_csv ('diabetes.csv').to_numpy()\n",
        "\n",
        "for i in range(8):\n",
        "    resultados = np.delete(resultados,0,1)\n",
        "\n",
        "Y=resultados"
      ]
    },
    {
      "cell_type": "code",
      "execution_count": null,
      "metadata": {
        "id": "x6IZsus-83ZS"
      },
      "outputs": [],
      "source": [
        "tamano_total = len(X)\n",
        "\n",
        "Cantidad_primer_grupo = round(tamano_total*0.65)\n",
        "\n",
        "\n",
        "X_train = X.iloc[:Cantidad_primer_grupo,:]\n",
        "Y_train = Y[:Cantidad_primer_grupo,:]\n",
        "\n",
        "resto = tamano_total-Cantidad_primer_grupo\n",
        "\n",
        "for i in range(Cantidad_primer_grupo):\n",
        "  X = X.iloc[1: , :]\n",
        "  Y = Y[1: , :]\n",
        "\n",
        "Cantidad_segundo_grupo= round(tamano_total*0.25)\n",
        "\n",
        "X_test = X.iloc[:Cantidad_segundo_grupo,:]\n",
        "Y_test = Y[:Cantidad_segundo_grupo,:]\n",
        "\n",
        "resto = resto-Cantidad_segundo_grupo\n",
        "\n",
        "\n",
        "for i in range(Cantidad_segundo_grupo):\n",
        "  X = X.iloc[1: , :]\n",
        "  Y = Y[1: , :]\n",
        "\n",
        "\n",
        "X_vali = X.iloc[:resto,:]\n",
        "Y_vali = Y[:resto,:]\n",
        "\n",
        "\n"
      ]
    },
    {
      "cell_type": "code",
      "source": [
        "Sc_X=StandardScaler()\n",
        "X_train=Sc_X.fit_transform(X_train)\n",
        "Y_train=Sc_X.fit_transform(Y_train)\n",
        "X_test=Sc_X.fit_transform(X_test)\n",
        "Y_test=Sc_X.fit_transform(Y_test)\n",
        "X_vali=Sc_X.fit_transform(X_vali)\n",
        "Y_vali=Sc_X.fit_transform(Y_vali)\n",
        "\n",
        "#Codigo para ver en grafica que de verdad funciona el escalado\n",
        "#savetxt('p.csv', X_train, delimiter=',')\n",
        "#dat=pd.read_csv ('p.csv')\n",
        "#dat.hist()\n"
      ],
      "metadata": {
        "id": "SQnoZbPwfd4J"
      },
      "execution_count": null,
      "outputs": []
    },
    {
      "cell_type": "code",
      "execution_count": null,
      "metadata": {
        "id": "jhzgIkNmXx6w"
      },
      "outputs": [],
      "source": [
        "model = Sequential(name = 'RedesNeuronalesAlimentadasHaciaDelante')\n",
        "model.add(Dense(18, input_dim=8))#8 entradas en la capa, 16 neuronas\n",
        "model.add(Activation('relu'))\n",
        "model.add(Dense(2))#2 salidas\n",
        "model.add(Activation('relu'))"
      ]
    },
    {
      "cell_type": "code",
      "execution_count": null,
      "metadata": {
        "id": "YG-HQTNmZQjP"
      },
      "outputs": [],
      "source": [
        "model.compile( loss='mean_squared_error',optimizer='adam',metrics=['binary_accuracy'])#descenso de gradiente estocástico "
      ]
    },
    {
      "cell_type": "code",
      "execution_count": null,
      "metadata": {
        "colab": {
          "base_uri": "https://localhost:8080/"
        },
        "id": "6-y2mT-OZilh",
        "outputId": "73eb89c7-9c68-4881-b7c9-fb838a15a457"
      },
      "outputs": [
        {
          "output_type": "stream",
          "name": "stdout",
          "text": [
            "Epoch 1/100\n",
            "167/167 [==============================] - 1s 1ms/step - loss: 437.4988 - binary_accuracy: 0.4549\n",
            "Epoch 2/100\n",
            "167/167 [==============================] - 0s 1ms/step - loss: 11.9097 - binary_accuracy: 0.6042\n",
            "Epoch 3/100\n",
            "167/167 [==============================] - 0s 1ms/step - loss: 2.3417 - binary_accuracy: 0.6253\n",
            "Epoch 4/100\n",
            "167/167 [==============================] - 0s 1ms/step - loss: 1.2185 - binary_accuracy: 0.6363\n",
            "Epoch 5/100\n",
            "167/167 [==============================] - 0s 1ms/step - loss: 0.8557 - binary_accuracy: 0.6403\n",
            "Epoch 6/100\n",
            "167/167 [==============================] - 0s 1ms/step - loss: 0.6738 - binary_accuracy: 0.6383\n",
            "Epoch 7/100\n",
            "167/167 [==============================] - 0s 1ms/step - loss: 0.5735 - binary_accuracy: 0.6343\n",
            "Epoch 8/100\n",
            "167/167 [==============================] - 0s 1ms/step - loss: 0.4961 - binary_accuracy: 0.6363\n",
            "Epoch 9/100\n",
            "167/167 [==============================] - 0s 1ms/step - loss: 0.4481 - binary_accuracy: 0.6373\n",
            "Epoch 10/100\n",
            "167/167 [==============================] - 0s 1ms/step - loss: 0.4082 - binary_accuracy: 0.6383\n",
            "Epoch 11/100\n",
            "167/167 [==============================] - 0s 1ms/step - loss: 0.3896 - binary_accuracy: 0.6403\n",
            "Epoch 12/100\n",
            "167/167 [==============================] - 0s 1ms/step - loss: 0.3787 - binary_accuracy: 0.6403\n",
            "Epoch 13/100\n",
            "167/167 [==============================] - 0s 1ms/step - loss: 0.3715 - binary_accuracy: 0.6403\n",
            "Epoch 14/100\n",
            "167/167 [==============================] - 0s 1ms/step - loss: 0.3669 - binary_accuracy: 0.6403\n",
            "Epoch 15/100\n",
            "167/167 [==============================] - 0s 1ms/step - loss: 0.3633 - binary_accuracy: 0.6403\n",
            "Epoch 16/100\n",
            "167/167 [==============================] - 0s 1ms/step - loss: 0.3612 - binary_accuracy: 0.6413\n",
            "Epoch 17/100\n",
            "167/167 [==============================] - 0s 1ms/step - loss: 0.3598 - binary_accuracy: 0.6413\n",
            "Epoch 18/100\n",
            "167/167 [==============================] - 0s 1ms/step - loss: 0.3591 - binary_accuracy: 0.6413\n",
            "Epoch 19/100\n",
            "167/167 [==============================] - 0s 1ms/step - loss: 0.3585 - binary_accuracy: 0.6413\n",
            "Epoch 20/100\n",
            "167/167 [==============================] - 0s 1ms/step - loss: 0.3580 - binary_accuracy: 0.6413\n",
            "Epoch 21/100\n",
            "167/167 [==============================] - 0s 1ms/step - loss: 0.3577 - binary_accuracy: 0.6413\n",
            "Epoch 22/100\n",
            "167/167 [==============================] - 0s 1ms/step - loss: 0.3575 - binary_accuracy: 0.6413\n",
            "Epoch 23/100\n",
            "167/167 [==============================] - 0s 1ms/step - loss: 0.3574 - binary_accuracy: 0.6423\n",
            "Epoch 24/100\n",
            "167/167 [==============================] - 0s 1ms/step - loss: 0.3572 - binary_accuracy: 0.6433\n",
            "Epoch 25/100\n",
            "167/167 [==============================] - 0s 1ms/step - loss: 0.3571 - binary_accuracy: 0.6423\n",
            "Epoch 26/100\n",
            "167/167 [==============================] - 0s 1ms/step - loss: 0.3571 - binary_accuracy: 0.6423\n",
            "Epoch 27/100\n",
            "167/167 [==============================] - 0s 1ms/step - loss: 0.3570 - binary_accuracy: 0.6423\n",
            "Epoch 28/100\n",
            "167/167 [==============================] - 0s 1ms/step - loss: 0.3571 - binary_accuracy: 0.6423\n",
            "Epoch 29/100\n",
            "167/167 [==============================] - 0s 1ms/step - loss: 0.3571 - binary_accuracy: 0.6423\n",
            "Epoch 30/100\n",
            "167/167 [==============================] - 0s 1ms/step - loss: 0.3571 - binary_accuracy: 0.6423\n",
            "Epoch 31/100\n",
            "167/167 [==============================] - 0s 1ms/step - loss: 0.3572 - binary_accuracy: 0.6423\n",
            "Epoch 32/100\n",
            "167/167 [==============================] - 0s 1ms/step - loss: 0.3570 - binary_accuracy: 0.6423\n",
            "Epoch 33/100\n",
            "167/167 [==============================] - 0s 1ms/step - loss: 0.3572 - binary_accuracy: 0.6413\n",
            "Epoch 34/100\n",
            "167/167 [==============================] - 0s 1ms/step - loss: 0.3571 - binary_accuracy: 0.6423\n",
            "Epoch 35/100\n",
            "167/167 [==============================] - 0s 1ms/step - loss: 0.3572 - binary_accuracy: 0.6413\n",
            "Epoch 36/100\n",
            "167/167 [==============================] - 0s 1ms/step - loss: 0.3574 - binary_accuracy: 0.6413\n",
            "Epoch 37/100\n",
            "167/167 [==============================] - 0s 1ms/step - loss: 0.3571 - binary_accuracy: 0.6423\n",
            "Epoch 38/100\n",
            "167/167 [==============================] - 0s 1ms/step - loss: 0.3570 - binary_accuracy: 0.6423\n",
            "Epoch 39/100\n",
            "167/167 [==============================] - 0s 1ms/step - loss: 0.3577 - binary_accuracy: 0.6413\n",
            "Epoch 40/100\n",
            "167/167 [==============================] - 0s 1ms/step - loss: 0.3572 - binary_accuracy: 0.6423\n",
            "Epoch 41/100\n",
            "167/167 [==============================] - 0s 1ms/step - loss: 0.3571 - binary_accuracy: 0.6423\n",
            "Epoch 42/100\n",
            "167/167 [==============================] - 0s 1ms/step - loss: 0.3572 - binary_accuracy: 0.6423\n",
            "Epoch 43/100\n",
            "167/167 [==============================] - 0s 1ms/step - loss: 0.3572 - binary_accuracy: 0.6423\n",
            "Epoch 44/100\n",
            "167/167 [==============================] - 0s 1ms/step - loss: 0.3572 - binary_accuracy: 0.6423\n",
            "Epoch 45/100\n",
            "167/167 [==============================] - 0s 1ms/step - loss: 0.3573 - binary_accuracy: 0.6403\n",
            "Epoch 46/100\n",
            "167/167 [==============================] - 0s 1ms/step - loss: 0.3573 - binary_accuracy: 0.6413\n",
            "Epoch 47/100\n",
            "167/167 [==============================] - 0s 1ms/step - loss: 0.3576 - binary_accuracy: 0.6413\n",
            "Epoch 48/100\n",
            "167/167 [==============================] - 0s 2ms/step - loss: 0.3578 - binary_accuracy: 0.6413\n",
            "Epoch 49/100\n",
            "167/167 [==============================] - 0s 1ms/step - loss: 0.3596 - binary_accuracy: 0.6383\n",
            "Epoch 50/100\n",
            "167/167 [==============================] - 0s 1ms/step - loss: 0.3570 - binary_accuracy: 0.6433\n",
            "Epoch 51/100\n",
            "167/167 [==============================] - 0s 1ms/step - loss: 0.3595 - binary_accuracy: 0.6403\n",
            "Epoch 52/100\n",
            "167/167 [==============================] - 0s 1ms/step - loss: 0.3590 - binary_accuracy: 0.6413\n",
            "Epoch 53/100\n",
            "167/167 [==============================] - 0s 1ms/step - loss: 0.3580 - binary_accuracy: 0.6413\n",
            "Epoch 54/100\n",
            "167/167 [==============================] - 0s 1ms/step - loss: 0.3580 - binary_accuracy: 0.6413\n",
            "Epoch 55/100\n",
            "167/167 [==============================] - 0s 1ms/step - loss: 0.3596 - binary_accuracy: 0.6393\n",
            "Epoch 56/100\n",
            "167/167 [==============================] - 0s 1ms/step - loss: 0.3594 - binary_accuracy: 0.6413\n",
            "Epoch 57/100\n",
            "167/167 [==============================] - 0s 1ms/step - loss: 0.3652 - binary_accuracy: 0.6343\n",
            "Epoch 58/100\n",
            "167/167 [==============================] - 0s 1ms/step - loss: 0.3647 - binary_accuracy: 0.6353\n",
            "Epoch 59/100\n",
            "167/167 [==============================] - 0s 1ms/step - loss: 0.3647 - binary_accuracy: 0.6353\n",
            "Epoch 60/100\n",
            "167/167 [==============================] - 0s 1ms/step - loss: 0.3647 - binary_accuracy: 0.6353\n",
            "Epoch 61/100\n",
            "167/167 [==============================] - 0s 1ms/step - loss: 0.3647 - binary_accuracy: 0.6353\n",
            "Epoch 62/100\n",
            "167/167 [==============================] - 0s 1ms/step - loss: 0.3647 - binary_accuracy: 0.6353\n",
            "Epoch 63/100\n",
            "167/167 [==============================] - 0s 1ms/step - loss: 0.3647 - binary_accuracy: 0.6353\n",
            "Epoch 64/100\n",
            "167/167 [==============================] - 0s 1ms/step - loss: 0.3647 - binary_accuracy: 0.6353\n",
            "Epoch 65/100\n",
            "167/167 [==============================] - 0s 2ms/step - loss: 0.3647 - binary_accuracy: 0.6353\n",
            "Epoch 66/100\n",
            "167/167 [==============================] - 0s 1ms/step - loss: 0.3647 - binary_accuracy: 0.6353\n",
            "Epoch 67/100\n",
            "167/167 [==============================] - 0s 1ms/step - loss: 0.3647 - binary_accuracy: 0.6353\n",
            "Epoch 68/100\n",
            "167/167 [==============================] - 0s 1ms/step - loss: 0.3647 - binary_accuracy: 0.6353\n",
            "Epoch 69/100\n",
            "167/167 [==============================] - 0s 1ms/step - loss: 0.3647 - binary_accuracy: 0.6353\n",
            "Epoch 70/100\n",
            "167/167 [==============================] - 0s 1ms/step - loss: 0.3647 - binary_accuracy: 0.6353\n",
            "Epoch 71/100\n",
            "167/167 [==============================] - 0s 2ms/step - loss: 0.3647 - binary_accuracy: 0.6353\n",
            "Epoch 72/100\n",
            "167/167 [==============================] - 0s 1ms/step - loss: 0.3647 - binary_accuracy: 0.6353\n",
            "Epoch 73/100\n",
            "167/167 [==============================] - 0s 1ms/step - loss: 0.3647 - binary_accuracy: 0.6353\n",
            "Epoch 74/100\n",
            "167/167 [==============================] - 0s 1ms/step - loss: 0.3647 - binary_accuracy: 0.6353\n",
            "Epoch 75/100\n",
            "167/167 [==============================] - 0s 1ms/step - loss: 0.3647 - binary_accuracy: 0.6353\n",
            "Epoch 76/100\n",
            "167/167 [==============================] - 0s 1ms/step - loss: 0.3647 - binary_accuracy: 0.6353\n",
            "Epoch 77/100\n",
            "167/167 [==============================] - 0s 1ms/step - loss: 0.3647 - binary_accuracy: 0.6353\n",
            "Epoch 78/100\n",
            "167/167 [==============================] - 0s 1ms/step - loss: 0.3647 - binary_accuracy: 0.6353\n",
            "Epoch 79/100\n",
            "167/167 [==============================] - 0s 1ms/step - loss: 0.3647 - binary_accuracy: 0.6353\n",
            "Epoch 80/100\n",
            "167/167 [==============================] - 0s 1ms/step - loss: 0.3647 - binary_accuracy: 0.6353\n",
            "Epoch 81/100\n",
            "167/167 [==============================] - 0s 1ms/step - loss: 0.3647 - binary_accuracy: 0.6353\n",
            "Epoch 82/100\n",
            "167/167 [==============================] - 0s 1ms/step - loss: 0.3647 - binary_accuracy: 0.6353\n",
            "Epoch 83/100\n",
            "167/167 [==============================] - 0s 1ms/step - loss: 0.3647 - binary_accuracy: 0.6353\n",
            "Epoch 84/100\n",
            "167/167 [==============================] - 0s 1ms/step - loss: 0.3647 - binary_accuracy: 0.6353\n",
            "Epoch 85/100\n",
            "167/167 [==============================] - 0s 1ms/step - loss: 0.3647 - binary_accuracy: 0.6353\n",
            "Epoch 86/100\n",
            "167/167 [==============================] - 0s 1ms/step - loss: 0.3647 - binary_accuracy: 0.6353\n",
            "Epoch 87/100\n",
            "167/167 [==============================] - 0s 1ms/step - loss: 0.3647 - binary_accuracy: 0.6353\n",
            "Epoch 88/100\n",
            "167/167 [==============================] - 0s 1ms/step - loss: 0.3647 - binary_accuracy: 0.6353\n",
            "Epoch 89/100\n",
            "167/167 [==============================] - 0s 1ms/step - loss: 0.3647 - binary_accuracy: 0.6353\n",
            "Epoch 90/100\n",
            "167/167 [==============================] - 0s 1ms/step - loss: 0.3647 - binary_accuracy: 0.6353\n",
            "Epoch 91/100\n",
            "167/167 [==============================] - 0s 1ms/step - loss: 0.3647 - binary_accuracy: 0.6353\n",
            "Epoch 92/100\n",
            "167/167 [==============================] - 0s 1ms/step - loss: 0.3647 - binary_accuracy: 0.6353\n",
            "Epoch 93/100\n",
            "167/167 [==============================] - 0s 1ms/step - loss: 0.3647 - binary_accuracy: 0.6353\n",
            "Epoch 94/100\n",
            "167/167 [==============================] - 0s 1ms/step - loss: 0.3647 - binary_accuracy: 0.6353\n",
            "Epoch 95/100\n",
            "167/167 [==============================] - 0s 1ms/step - loss: 0.3647 - binary_accuracy: 0.6353\n",
            "Epoch 96/100\n",
            "167/167 [==============================] - 0s 1ms/step - loss: 0.3647 - binary_accuracy: 0.6353\n",
            "Epoch 97/100\n",
            "167/167 [==============================] - 0s 1ms/step - loss: 0.3647 - binary_accuracy: 0.6353\n",
            "Epoch 98/100\n",
            "167/167 [==============================] - 0s 1ms/step - loss: 0.3647 - binary_accuracy: 0.6353\n",
            "Epoch 99/100\n",
            "167/167 [==============================] - 0s 2ms/step - loss: 0.3647 - binary_accuracy: 0.6353\n",
            "Epoch 100/100\n",
            "167/167 [==============================] - 0s 1ms/step - loss: 0.3647 - binary_accuracy: 0.6353\n"
          ]
        }
      ],
      "source": [
        "history = model.fit(X_train, Y_train, batch_size=3, epochs=100, workers=8)"
      ]
    },
    {
      "cell_type": "code",
      "execution_count": null,
      "metadata": {
        "colab": {
          "base_uri": "https://localhost:8080/",
          "height": 404
        },
        "id": "TN-OScVDa6F1",
        "outputId": "cd64e3a2-cc28-4189-ce07-8c4e86dcc7ba"
      },
      "outputs": [
        {
          "output_type": "display_data",
          "data": {
            "image/png": "[encoded data removed]",
            "text/plain": [
              "<Figure size 1080x432 with 1 Axes>"
            ]
          },
          "metadata": {
            "needs_background": "dark"
          }
        }
      ],
      "source": [
        "\t\n",
        "#loss, accuracy = model.evaluate(X,Y)Sirve para evaluar el modelo bajo datos que no han sido utilizados para el entrenamiento\n",
        "plt.figure(figsize=(15,6))\n",
        "\n",
        "plt.plot(history.history['binary_accuracy'])\n",
        "\n",
        "plt.legend(['train'],loc='upper left')\n",
        "plt.xlabel('época')\n",
        "plt.ylabel('Error medio cuadrado')\n",
        "\n",
        "plt.grid()\n",
        "\n",
        "plt.savefig('imagen.png')\n",
        "\n",
        "plt.title('Modelo', color='w')\n",
        "plt.ylabel('binary accuracy', color='w')\n",
        "plt.yticks(color='w')\n",
        "plt.xlabel('epoca', color='w')\n",
        "plt.xticks(color='w')\n",
        "plt.show()"
      ]
    }
  ],
  "metadata": {
    "colab": {
      "collapsed_sections": [],
      "name": "RedesNeuronales.ipynb",
      "provenance": []
    },
    "kernelspec": {
      "display_name": "Python 3",
      "name": "python3"
    },
    "language_info": {
      "name": "python"
    }
  },
  "nbformat": 4,
  "nbformat_minor": 0
}